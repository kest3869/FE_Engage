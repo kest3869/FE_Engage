{
 "cells": [
  {
   "cell_type": "markdown",
   "metadata": {},
   "source": [
    "# Strategy Notes : first try at Maddening\n",
    "\n",
    "## Characters Roles and Replacements \n",
    "\n",
    "Chapter 1: \n",
    "- Alear: physical damage dealer can promote when reaching level cap \n",
    "\n",
    "Chapter 4: \n",
    "- Louis: physical tank class into great knight can chill in armor until 20\n",
    "\n",
    "Chapter 8: \n",
    "- Anna: upgrade and (needs early SS and preferably master seal)\n",
    "\n",
    "Chapter 11: \n",
    "- Kagetsu: physical damage dealer good with tiki good as any promo (palladin, wyvern rider) diversify weapon usage from alear \n",
    "\n",
    "Chapter 12: \n",
    "- pandreo: staff user reclass based on stave/ tanking needs \n",
    "\n",
    "Chapter 14: \n",
    "- Hortensia: magical damage and staffs \n",
    "\n",
    "Other: \n",
    "- use mauvier in base class\n",
    "- reclass veyle into a healer \n",
    "- dancer be dancin \n",
    "\n",
    "Summary: \n",
    "- Physical damage: Alear, Kagetsu\n",
    "- Tanks: Louis\n",
    "- Magical Damage: anna\n",
    "- Staff users: pandreo and hortensia\n",
    "\n",
    "Ideas to try: \n",
    "- diamant as royal knight tank\n",
    "- Alcryst as Tireur d'elite\n",
    "- Timerra tank promote to picket \n",
    "- citrinne with a fast promote to high priest \n",
    "- use ivy as staff user (don't use special promote)"
   ]
  },
  {
   "cell_type": "markdown",
   "metadata": {},
   "source": [
    "## core team \n",
    "- Alear : Wyvern Rider\n",
    "- Louis: Great Knight \n",
    "- Kagetsu : Warrior \n",
    "- Anna : Mage Knight\n",
    "- Hortensia : Special Promote \n",
    "- Pandreo : High Priest"
   ]
  },
  {
   "cell_type": "markdown",
   "metadata": {},
   "source": [
    "## Useful Skills by Role \n",
    "\n",
    "- Alear: vantage , sp farming skill, expensive damage skill \n",
    "- Anna: celica extra damage skill, sp farming skill\n",
    "- Kagetsu: more growths / xp, expensive crit skill\n",
    "- Louis: ikes tank skill, canter\n",
    "- Hortensia: hold out \n",
    "- Pandreo: the one that gives avoid based on number of allies"
   ]
  },
  {
   "cell_type": "markdown",
   "metadata": {},
   "source": [
    "## Useful emblems\n",
    "- Alear: Marth, Edelgard \n",
    "- Louis: Corrin, Sigurd \n",
    "- Anna: Sorrin\n",
    "- Kagetsu: tiki, solar lunar peeps\n",
    "- Hortensia: Celica\n",
    "- Pandreo: Byleth"
   ]
  },
  {
   "cell_type": "code",
   "execution_count": null,
   "metadata": {},
   "outputs": [],
   "source": []
  }
 ],
 "metadata": {
  "kernelspec": {
   "display_name": "Python 3",
   "language": "python",
   "name": "python3"
  },
  "language_info": {
   "codemirror_mode": {
    "name": "ipython",
    "version": 3
   },
   "file_extension": ".py",
   "mimetype": "text/x-python",
   "name": "python",
   "nbconvert_exporter": "python",
   "pygments_lexer": "ipython3",
   "version": "3.9.6"
  }
 },
 "nbformat": 4,
 "nbformat_minor": 2
}
