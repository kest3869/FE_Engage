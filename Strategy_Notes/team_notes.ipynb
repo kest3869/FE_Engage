{
 "cells": [
  {
   "cell_type": "markdown",
   "metadata": {},
   "source": [
    "# Strategy Notes \n",
    "\n",
    "## Characters Roles and Replacements \n",
    "\n",
    "Chapter 1: \n",
    "- Alear: physical damage dealer can promote when reaching level cap \n",
    "\n",
    "Chapter 4: \n",
    "- Louis: physical tank class into great knight can chill in armor until 20\n",
    "\n",
    "Chaper 7:\n",
    "- Citrinne: magical damage then staff user on promote \n",
    "\n",
    "Chapter 8: \n",
    "- Anna: upgrade and (needs early SS and preferably master seal)\n",
    "\n",
    "Chapter 11: \n",
    "- Kagetsu: physical damage dealer good with tiki good as any promo (palladin, wyvern rider) diversify weapon usage from alear \n",
    "\n",
    "Chapter 12: \n",
    "- pandreo: staff user reclass based on stave/ tanking needs \n",
    "\n",
    "Chapter 14: \n",
    "- Hortensia: magical damage and staffs \n",
    "\n",
    "Lategame: \n",
    "- use veyle and mauvier in base classes \n",
    "\n",
    "Summary: \n",
    "- Physical damage: Alear, Kagetsu\n",
    "- Tanks: Louis\n",
    "- Magical Damage: anna, hortensia\n",
    "- Staff users: citrinne, pandreo\n",
    "\n",
    "Ideas to try: \n",
    "- diamant as royal knight tank\n",
    "- Timerra tank promote to picket \n",
    "- try Alcryst phys damage with a quick promote at 10\n",
    "- use ivy as staff user (don't use special promote)"
   ]
  },
  {
   "cell_type": "markdown",
   "metadata": {},
   "source": [
    "## small team \n",
    "- Alear \n",
    "- Anna \n",
    "- Kagetsu\n",
    "- Hortensia\n",
    "- Cintrinne\n",
    "- Pandreo "
   ]
  },
  {
   "cell_type": "code",
   "execution_count": null,
   "metadata": {},
   "outputs": [],
   "source": []
  }
 ],
 "metadata": {
  "language_info": {
   "name": "python"
  }
 },
 "nbformat": 4,
 "nbformat_minor": 2
}
